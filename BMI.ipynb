{
 "cells": [
  {
   "cell_type": "markdown",
   "id": "59cf3424",
   "metadata": {},
   "source": [
    "# BMI Calculator using LangGraph\n",
    "\n",
    "This notebook demonstrates how to build a Body Mass Index (BMI) calculator using LangGraph's state management system. The program calculates BMI from weight and height inputs and categorizes the result according to standard BMI classifications.\n",
    "\n",
    "## Overview\n",
    "\n",
    "The BMI calculator is implemented as a graph workflow with two main steps:\n",
    "1. **Calculate BMI**: Computes BMI using the formula: weight (kg) / height² (m²)\n",
    "2. **Categorize BMI**: Labels the BMI result into standard categories (Underweight, Normal weight, Overweight, Obesity)\n",
    "\n",
    "## Features\n",
    "- Type-safe state management using TypedDict\n",
    "- Sequential workflow processing with LangGraph\n",
    "- Automatic BMI classification based on WHO standards"
   ]
  },
  {
   "cell_type": "code",
   "execution_count": 12,
   "id": "d2a65f56",
   "metadata": {},
   "outputs": [],
   "source": [
    "from langgraph.graph import StateGraph,START,END\n",
    "from typing import TypedDict\n"
   ]
  },
  {
   "cell_type": "markdown",
   "id": "fdf94d6d",
   "metadata": {},
   "source": [
    "## 1. Required Imports\n",
    "\n",
    "We start by importing the necessary modules from LangGraph for building our state graph workflow."
   ]
  },
  {
   "cell_type": "code",
   "execution_count": 19,
   "id": "302957cc",
   "metadata": {},
   "outputs": [],
   "source": [
    "class bmistate(TypedDict):\n",
    "    \"\"\"A type for the bmistate dictionary.\"\"\"\n",
    "    weight: float\n",
    "    height: float\n",
    "    bmi: float\n",
    "    category: str\n"
   ]
  },
  {
   "cell_type": "markdown",
   "id": "3466f215",
   "metadata": {},
   "source": [
    "## 2. State Definition\n",
    "\n",
    "We define the state structure using TypedDict to ensure type safety. The state contains:\n",
    "- `weight`: Person's weight in kilograms\n",
    "- `height`: Person's height in meters\n",
    "- `bmi`: Calculated BMI value\n",
    "- `category`: BMI classification category"
   ]
  },
  {
   "cell_type": "code",
   "execution_count": 7,
   "id": "b928ce4d",
   "metadata": {},
   "outputs": [],
   "source": [
    "def calculate_bmi(state:bmistate)-> bmistate:\n",
    "    \"\"\"Calculate BMI from weight and height.\"\"\"\n",
    "    state['bmi'] = state['weight'] / (state['height'] ** 2)\n",
    "    return state"
   ]
  },
  {
   "cell_type": "markdown",
   "id": "f18ce3cc",
   "metadata": {},
   "source": [
    "## 3. BMI Calculation Function\n",
    "\n",
    "This function calculates the BMI using the standard formula:\n",
    "**BMI = weight (kg) / height² (m²)**\n",
    "\n",
    "The function takes the current state, performs the calculation, and updates the BMI field."
   ]
  },
  {
   "cell_type": "code",
   "execution_count": 20,
   "id": "128916c8",
   "metadata": {},
   "outputs": [],
   "source": [
    "def label_bmi(state:bmistate)->bmistate:\n",
    "    if state['bmi'] < 18.5:\n",
    "        state['category'] = 'Underweight'\n",
    "    elif 18.5 <= state['bmi'] < 24.9:\n",
    "        state['category'] = 'Normal weight'     \n",
    "    elif 25 <= state['bmi'] < 29.9:\n",
    "        state['category'] = 'Overweight'    \n",
    "    else:\n",
    "        state['category'] = 'Obesity'\n",
    "    return state"
   ]
  },
  {
   "cell_type": "markdown",
   "id": "34458e1d",
   "metadata": {},
   "source": [
    "## 4. BMI Classification Function\n",
    "\n",
    "This function categorizes the calculated BMI into standard WHO classifications:\n",
    "\n",
    "| BMI Range | Category |\n",
    "|-----------|----------|\n",
    "| < 18.5 | Underweight |\n",
    "| 18.5 - 24.9 | Normal weight |\n",
    "| 25.0 - 29.9 | Overweight |\n",
    "| ≥ 30.0 | Obesity |"
   ]
  },
  {
   "cell_type": "code",
   "execution_count": 21,
   "id": "8b558185",
   "metadata": {},
   "outputs": [],
   "source": [
    "#define graph\n",
    "graph = StateGraph(bmistate)\n",
    "#add node\n",
    "graph.add_node(\"calculate_bmi\", calculate_bmi)\n",
    "graph.add_node(\"label_bmi\", label_bmi)\n",
    "#add edges\n",
    "graph.add_edge(START,\"calculate_bmi\")\n",
    "graph.add_edge(\"calculate_bmi\",\"label_bmi\")\n",
    "graph.add_edge(\"label_bmi\", END)\n",
    "#compile\n",
    "workflow = graph.compile()\n",
    "#execute"
   ]
  },
  {
   "cell_type": "markdown",
   "id": "ffb662c7",
   "metadata": {},
   "source": [
    "## 5. Graph Workflow Definition\n",
    "\n",
    "Here we create the LangGraph workflow that connects our functions:\n",
    "\n",
    "1. **Graph Creation**: Initialize StateGraph with our BMI state type\n",
    "2. **Node Addition**: Add the calculation and labeling functions as nodes\n",
    "3. **Edge Definition**: Create the workflow sequence:\n",
    "   - START → calculate_bmi → label_bmi → END\n",
    "4. **Compilation**: Compile the graph into an executable workflow"
   ]
  },
  {
   "cell_type": "code",
   "execution_count": 25,
   "id": "e6315b3a",
   "metadata": {},
   "outputs": [
    {
     "name": "stdout",
     "output_type": "stream",
     "text": [
      "{'weight': 105, 'height': 1.7, 'bmi': 36.33217993079585, 'category': 'Obesity'}\n"
     ]
    }
   ],
   "source": [
    "init_state = bmistate(weight=105, height=1.70, bmi=0.0)\n",
    "result=workflow.invoke(init_state)\n",
    "print(result)"
   ]
  },
  {
   "cell_type": "markdown",
   "id": "b430782d",
   "metadata": {},
   "source": [
    "## 7. Results and Conclusion\n",
    "\n",
    "The workflow successfully processes the input data and returns:\n",
    "- **Calculated BMI**: The exact BMI value\n",
    "- **Category**: The appropriate classification based on WHO standards\n",
    "\n",
    "### Key Benefits of This Approach:\n",
    "1. **Type Safety**: TypedDict ensures correct data structure\n",
    "2. **Modularity**: Separate functions for calculation and classification\n",
    "3. **Scalability**: Easy to add more processing steps to the workflow\n",
    "4. **Clarity**: Clear separation of concerns and workflow visualization\n",
    "\n",
    "### Possible Extensions:\n",
    "- Add input validation\n",
    "- Include additional health metrics\n",
    "- Add visualization of BMI categories\n",
    "- Support for different measurement units (imperial/metric)"
   ]
  },
  {
   "cell_type": "markdown",
   "id": "19c81f0c",
   "metadata": {},
   "source": [
    "## 6. Example Execution\n",
    "\n",
    "Let's test our BMI calculator with sample data:\n",
    "- **Weight**: 105 kg\n",
    "- **Height**: 1.70 m\n",
    "- **Expected BMI**: ~36.3 (Obesity category)\n",
    "\n",
    "The workflow will process the initial state through both calculation and classification steps."
   ]
  }
 ],
 "metadata": {
  "kernelspec": {
   "display_name": "lenv",
   "language": "python",
   "name": "python3"
  },
  "language_info": {
   "codemirror_mode": {
    "name": "ipython",
    "version": 3
   },
   "file_extension": ".py",
   "mimetype": "text/x-python",
   "name": "python",
   "nbconvert_exporter": "python",
   "pygments_lexer": "ipython3",
   "version": "3.13.5"
  }
 },
 "nbformat": 4,
 "nbformat_minor": 5
}
